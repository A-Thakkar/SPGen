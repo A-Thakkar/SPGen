{
 "cells": [
  {
   "cell_type": "markdown",
   "metadata": {},
   "source": [
    "1. Read in the split sequences. \n",
    "2. Get the alphabets and add in a padding character (' '), a stop character ('.'), and a start character ('$'). \n",
    "3. Save n x L x c arrays as h5py files. X is the mature sequence. y is the signal peptide. \n",
    "4. Check that saved sequences decode correctly. \n",
    "5. Save n x L arrays as h5py files. \n",
    "6. Check that saved sequences decode correctly.\n",
    "7. Save the character tables"
   ]
  },
  {
   "cell_type": "markdown",
   "metadata": {},
   "source": [
    "**For dataset that removes sequences at least 95% similar to the protein sequences in Zach's excel \"initial_enzymes_1.\" Rerun on 6-14-18 for just training and validation sets.**"
   ]
  },
  {
   "cell_type": "code",
   "execution_count": 1,
   "metadata": {
    "collapsed": true
   },
   "outputs": [
    {
     "name": "stderr",
     "output_type": "stream",
     "text": [
      "/home/ubuntu/anaconda3/envs/pytorch_p36/lib/python3.6/site-packages/h5py/__init__.py:36: FutureWarning: Conversion of the second argument of issubdtype from `float` to `np.floating` is deprecated. In future, it will be treated as `np.float64 == np.dtype(float).type`.\n",
      "  from ._conv import register_converters as _register_converters\n"
     ]
    }
   ],
   "source": [
    "import pickle\n",
    "import h5py \n",
    "import itertools\n",
    "\n",
    "import numpy as np\n",
    "\n",
    "from tools import CharacterTable"
   ]
  },
  {
   "cell_type": "code",
   "execution_count": 2,
   "metadata": {
    "collapsed": true
   },
   "outputs": [],
   "source": [
    "# read in data from pickle files\n",
    "with open('../data/filtered_datasets/train_95.pkl', 'rb') as f:\n",
    "    train_95 = pickle.load(f)  \n",
    "with open('../data/filtered_datasets/validate_95.pkl', 'rb') as f:\n",
    "    validate_95 = pickle.load(f) \n",
    "    \n",
    "train_small_95 = train_95[:1000]"
   ]
  },
  {
   "cell_type": "code",
   "execution_count": 3,
   "metadata": {
    "collapsed": true
   },
   "outputs": [],
   "source": [
    "alphabet = ''.join(sorted(set(itertools.chain.from_iterable([t[1] for t in train_95]))))\n",
    "alphabet = ' .$' + alphabet + 'Z'"
   ]
  },
  {
   "cell_type": "code",
   "execution_count": 4,
   "metadata": {},
   "outputs": [
    {
     "data": {
      "text/plain": [
       "' .$ACDEFGHIKLMNPQRSTUVWXYZ'"
      ]
     },
     "execution_count": 4,
     "metadata": {},
     "output_type": "execute_result"
    }
   ],
   "source": [
    "alphabet"
   ]
  },
  {
   "cell_type": "code",
   "execution_count": 5,
   "metadata": {
    "collapsed": true
   },
   "outputs": [],
   "source": [
    "max_len_in = 107 # max length of prot seq (105 aa) + 2 for tokens\n",
    "max_len_out = 72\n",
    "n_chars = len(alphabet)"
   ]
  },
  {
   "cell_type": "code",
   "execution_count": 6,
   "metadata": {},
   "outputs": [
    {
     "name": "stdout",
     "output_type": "stream",
     "text": [
      "[[0. 1. 0. 0. 0. 0. 0. 0. 0. 0. 0. 0. 0. 0. 0. 0. 0. 0. 0. 0. 0. 0. 0. 0.\n",
      "  0. 0.]\n",
      " [0. 0. 0. 1. 0. 0. 0. 0. 0. 0. 0. 0. 0. 0. 0. 0. 0. 0. 0. 0. 0. 0. 0. 0.\n",
      "  0. 0.]\n",
      " [0. 0. 0. 0. 1. 0. 0. 0. 0. 0. 0. 0. 0. 0. 0. 0. 0. 0. 0. 0. 0. 0. 0. 0.\n",
      "  0. 0.]\n",
      " [0. 0. 0. 0. 0. 0. 1. 0. 0. 0. 0. 0. 0. 0. 0. 0. 0. 0. 0. 0. 0. 0. 0. 0.\n",
      "  0. 0.]\n",
      " [0. 0. 1. 0. 0. 0. 0. 0. 0. 0. 0. 0. 0. 0. 0. 0. 0. 0. 0. 0. 0. 0. 0. 0.\n",
      "  0. 0.]\n",
      " [0. 0. 0. 0. 0. 0. 0. 0. 0. 0. 0. 0. 0. 0. 0. 0. 0. 0. 0. 0. 0. 0. 0. 0.\n",
      "  0. 0.]\n",
      " [0. 0. 0. 0. 0. 0. 0. 0. 0. 0. 0. 0. 0. 0. 0. 0. 0. 0. 0. 0. 0. 0. 0. 0.\n",
      "  0. 0.]]\n",
      "$ACE.  |\n"
     ]
    }
   ],
   "source": [
    "ctable = CharacterTable(alphabet)\n",
    "encoded = ctable.encode('$ACE.', 7, reverse=False)\n",
    "decoded = ctable.decode(encoded, reverse=False)\n",
    "print(encoded)\n",
    "print(decoded + '|')"
   ]
  },
  {
   "cell_type": "code",
   "execution_count": 7,
   "metadata": {
    "collapsed": true
   },
   "outputs": [],
   "source": [
    "def encode(seqs, max_len, ctable):\n",
    "    if ctable.one_hot:\n",
    "        X = np.zeros((len(seqs), max_len, n_chars))\n",
    "    else:\n",
    "        X = np.zeros((len(seqs), max_len))\n",
    "    seqs = ['$' + seq + '.' for seq in seqs]\n",
    "    seqs = [seq + ' ' * ((max_len) - len(seq))for seq in seqs]\n",
    "    for i, seq in enumerate(seqs):\n",
    "        X[i] = ctable.encode(seq, max_len)\n",
    "    return X"
   ]
  },
  {
   "cell_type": "code",
   "execution_count": 8,
   "metadata": {
    "collapsed": true
   },
   "outputs": [],
   "source": [
    "def to_h5py(seqs, fname, ctable):\n",
    "    chunksize = 500\n",
    "    with h5py.File('../data/filtered_datasets/' + fname + '.hdf5', 'w') as f:\n",
    "        if ctable.one_hot:\n",
    "            X = f.create_dataset('X', (len(seqs), max_len_in, n_chars))\n",
    "            y = f.create_dataset('y', (len(seqs), max_len_out, n_chars))\n",
    "        else:\n",
    "            X = f.create_dataset('X', (len(seqs), max_len_in))\n",
    "            y = f.create_dataset('y', (len(seqs), max_len_out))            \n",
    "        for i in range(0, len(seqs), chunksize):\n",
    "            X[i:i + chunksize, :] = encode([seq[1] for seq in seqs[i:i+chunksize]], max_len_in, ctable)\n",
    "            y[i:i + chunksize, :] = encode([seq[0] for seq in seqs[i:i+chunksize]], max_len_out, ctable)\n",
    "        left = len(seqs) % chunksize\n",
    "        if left > 0:\n",
    "            X[-left:, :] = encode([seq[1] for seq in seqs[-left:]], max_len_in, ctable)\n",
    "            y[-left:, :] = encode([seq[0] for seq in seqs[-left:]], max_len_out, ctable)   "
   ]
  },
  {
   "cell_type": "code",
   "execution_count": 9,
   "metadata": {},
   "outputs": [],
   "source": [
    "to_h5py(train_95, 'train_95', ctable)\n",
    "to_h5py(validate_95, 'validate_95', ctable)\n",
    "to_h5py(train_small_95, 'train_small_95', ctable)\n",
    "\n",
    "with open('../data/filtered_datasets/outputs/ctable_onehot_95.pkl', 'wb') as f:\n",
    "    pickle.dump(ctable, f)"
   ]
  },
  {
   "cell_type": "code",
   "execution_count": 10,
   "metadata": {},
   "outputs": [
    {
     "name": "stdout",
     "output_type": "stream",
     "text": [
      "[1 3 4 6 2]\n",
      "$ACE.|\n"
     ]
    }
   ],
   "source": [
    "ctable = CharacterTable(alphabet, one_hot=False)\n",
    "encoded = ctable.encode('$ACE.', 7, reverse=False)\n",
    "decoded = ctable.decode(encoded, reverse=False)\n",
    "print(encoded)\n",
    "print(decoded + '|')"
   ]
  },
  {
   "cell_type": "code",
   "execution_count": null,
   "metadata": {
    "collapsed": true
   },
   "outputs": [],
   "source": [
    "to_h5py(train_95, 'train_tokens_95', ctable)\n",
    "to_h5py(validate_95, 'validate_tokens_95', ctable)\n",
    "to_h5py(train_small_95, 'train_small_tokens_95', ctable)\n",
    "\n",
    "with open('../data/filtered_datasets/outputs/ctable_token_95.pkl', 'wb') as f:\n",
    "    pickle.dump(ctable, f)"
   ]
  },
  {
   "cell_type": "code",
   "execution_count": null,
   "metadata": {},
   "outputs": [],
   "source": []
  }
 ],
 "metadata": {
  "kernelspec": {
   "display_name": "Environment (conda_pytorch_p36)",
   "language": "python",
   "name": "conda_pytorch_p36"
  },
  "language_info": {
   "codemirror_mode": {
    "name": "ipython",
    "version": 3
   },
   "file_extension": ".py",
   "mimetype": "text/x-python",
   "name": "python",
   "nbconvert_exporter": "python",
   "pygments_lexer": "ipython3",
   "version": "3.6.4"
  }
 },
 "nbformat": 4,
 "nbformat_minor": 2
}
