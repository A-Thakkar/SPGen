{
 "cells": [
  {
   "cell_type": "markdown",
   "metadata": {},
   "source": [
    "Checking to see if protein sequences Zach sent in excel file called \"initial_enzymes_1\" are in the training set. If so, remove them from the training set.\n",
    "\n",
    "Initial attempt that includes finding the longest common substring (consecutive amino acids) between two sequences, and comparing amino acids in each position of the sequences."
   ]
  },
  {
   "cell_type": "code",
   "execution_count": 6,
   "metadata": {
    "collapsed": true
   },
   "outputs": [],
   "source": [
    "%matplotlib inline\n",
    "import pickle\n",
    "import random\n",
    "from collections import Counter\n",
    "\n",
    "import numpy as np\n",
    "import pandas as pd\n",
    "import matplotlib.pyplot as plt\n",
    "import seaborn as sns\n",
    "sns.set_style('whitegrid')\n",
    "\n",
    "from Bio import pairwise2 as pw2"
   ]
  },
  {
   "cell_type": "code",
   "execution_count": 7,
   "metadata": {
    "collapsed": true
   },
   "outputs": [],
   "source": [
    "# load in prot sequences from dataset\n",
    "df = pd.read_excel('../data/uniprot_reviewed_signalpeptides.xlsx')\n",
    "dataset = df['Sequence'].values   # [:10]\n",
    "\n",
    "# load in prot sequences from Zach's excel\n",
    "df = pd.read_excel('../data/initial_enzymes_1.xlsx', sheet_name=1)\n",
    "prot_excel = df['Protein -met -sigp'].values   # [:10]"
   ]
  },
  {
   "cell_type": "code",
   "execution_count": 8,
   "metadata": {
    "collapsed": true
   },
   "outputs": [],
   "source": [
    "def lcs(S,T):\n",
    "    \"\"\" Function that returns a dictionary of the longest common substrings of two strings \"\"\"\n",
    "    m = len(S)\n",
    "    n = len(T)\n",
    "    counter = [[0]*(n+1) for x in range(m+1)]\n",
    "    longest = 0\n",
    "    lcs_set = set()\n",
    "    for i in range(m):\n",
    "        for j in range(n):\n",
    "            if S[i] == T[j]:\n",
    "                c = counter[i][j] + 1\n",
    "                counter[i+1][j+1] = c\n",
    "                if c > longest:\n",
    "                    lcs_set = set()\n",
    "                    longest = c\n",
    "                    lcs_set.add(S[i-c+1:i+1])\n",
    "                elif c == longest:\n",
    "                    lcs_set.add(S[i-c+1:i+1])\n",
    "\n",
    "    return lcs_set"
   ]
  },
  {
   "cell_type": "code",
   "execution_count": 9,
   "metadata": {
    "collapsed": true
   },
   "outputs": [],
   "source": [
    "def compare(a, b):\n",
    "    \"\"\" Function that returns the number of the same amino acids in the same position in two sequences. \"\"\"\n",
    "    sim = 0\n",
    "    for x, y in zip(a, b):\n",
    "        if x == y:\n",
    "            sim += 1\n",
    "    \n",
    "    return sim"
   ]
  },
  {
   "cell_type": "code",
   "execution_count": 10,
   "metadata": {
    "collapsed": true
   },
   "outputs": [],
   "source": [
    "for i, prot in enumerate(prot_excel):\n",
    "    for j, dat in enumerate(dataset):\n",
    "        sim = {}\n",
    "        sim = lcs(prot, dat)\n",
    "        max_length = len(max(sim, key=len))\n",
    "        if max_length > 20:\n",
    "            print(prot)\n",
    "            print(\"-----\")\n",
    "            print(dat)\n",
    "            print(\"-----\")\n",
    "            print(sim)\n",
    "            print(\"**********************************************\")"
   ]
  },
  {
   "cell_type": "code",
   "execution_count": 11,
   "metadata": {
    "collapsed": true
   },
   "outputs": [
    {
     "data": {
      "text/plain": [
       "numpy.ndarray"
      ]
     },
     "execution_count": 11,
     "metadata": {},
     "output_type": "execute_result"
    }
   ],
   "source": [
    "type(dataset)"
   ]
  },
  {
   "cell_type": "code",
   "execution_count": 12,
   "metadata": {},
   "outputs": [],
   "source": [
    "# 50% similarity\n",
    "\n",
    "sim_50 = []\n",
    "\n",
    "for i, prot in enumerate(prot_excel):\n",
    "    for j, dat in enumerate(dataset):\n",
    "        sim = 0\n",
    "        sim = compare(prot, dat)\n",
    "        sim /= len(dat)\n",
    "        if sim >= 0.5:\n",
    "            print(prot)\n",
    "            print(\"-----\")\n",
    "            print(dat)\n",
    "            print(\"-----\")\n",
    "            print(sim)\n",
    "            print(\"**********************************************\")\n",
    "            sim_50.append(dat)\n",
    "\n",
    "sim_50 = np.asarray(sim_50)"
   ]
  },
  {
   "cell_type": "code",
   "execution_count": 13,
   "metadata": {},
   "outputs": [],
   "source": [
    "# 75% similarity\n",
    "\n",
    "sim_75 = []\n",
    "\n",
    "for i, prot in enumerate(prot_excel):\n",
    "    for j, dat in enumerate(dataset):\n",
    "        sim = 0\n",
    "        sim = compare(prot, dat)\n",
    "        sim /= len(dat)\n",
    "        if sim >= 0.75:\n",
    "            print(prot)\n",
    "            print(\"-----\")\n",
    "            print(dat)\n",
    "            print(\"-----\")\n",
    "            print(sim)\n",
    "            print(\"**********************************************\")\n",
    "            sim_75.append(dat)\n",
    "\n",
    "sim_75 = np.asarray(sim_75)"
   ]
  },
  {
   "cell_type": "code",
   "execution_count": 14,
   "metadata": {},
   "outputs": [],
   "source": [
    "# 75% similarity\n",
    "\n",
    "sim_90 = []\n",
    "\n",
    "for i, prot in enumerate(prot_excel):\n",
    "    for j, dat in enumerate(dataset):\n",
    "        sim = 0\n",
    "        sim = compare(prot, dat)\n",
    "        sim /= len(dat)\n",
    "        if sim >= 0.9:\n",
    "            print(prot)\n",
    "            print(\"-----\")\n",
    "            print(dat)\n",
    "            print(\"-----\")\n",
    "            print(sim)\n",
    "            print(\"**********************************************\")\n",
    "            sim_90.append(dat)\n",
    "\n",
    "sim_90 = np.asarray(sim_90)"
   ]
  },
  {
   "cell_type": "code",
   "execution_count": 15,
   "metadata": {},
   "outputs": [
    {
     "data": {
      "text/plain": [
       "2351"
      ]
     },
     "execution_count": 15,
     "metadata": {},
     "output_type": "execute_result"
    }
   ],
   "source": [
    "len(dataset[2])"
   ]
  }
 ],
 "metadata": {
  "kernelspec": {
   "display_name": "Environment (conda_pytorch_p36)",
   "language": "python",
   "name": "conda_pytorch_p36"
  },
  "language_info": {
   "codemirror_mode": {
    "name": "ipython",
    "version": 3
   },
   "file_extension": ".py",
   "mimetype": "text/x-python",
   "name": "python",
   "nbconvert_exporter": "python",
   "pygments_lexer": "ipython3",
   "version": "3.6.6"
  }
 },
 "nbformat": 4,
 "nbformat_minor": 2
}
