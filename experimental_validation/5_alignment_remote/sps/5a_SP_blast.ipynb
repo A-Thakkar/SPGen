{
 "cells": [
  {
   "cell_type": "code",
   "execution_count": 1,
   "metadata": {},
   "outputs": [],
   "source": [
    "import Bio\n",
    "import pandas as pd\n",
    "import numpy as np\n",
    "from tqdm.notebook import tqdm"
   ]
  },
  {
   "cell_type": "code",
   "execution_count": 2,
   "metadata": {},
   "outputs": [],
   "source": [
    "nat_df = pd.read_excel('uniprot_reviewed_signalpeptides.xlsx')\n",
    "gen_df = pd.read_excel('sp_prot_translations.xls')"
   ]
  },
  {
   "cell_type": "code",
   "execution_count": 3,
   "metadata": {},
   "outputs": [],
   "source": [
    "def get_start(row):\n",
    "    key = row['Signal peptide']\n",
    "    parts = key.split()\n",
    "    t = parts[1]\n",
    "    try:\n",
    "        return int(t)\n",
    "    except:\n",
    "        return None\n",
    "\n",
    "def get_end(row):\n",
    "    t = row['Signal peptide'].split()[2]\n",
    "    try:\n",
    "        return int(t)\n",
    "    except:\n",
    "        return None\n",
    "    \n",
    "def get_sp(row):\n",
    "    seq = row['Sequence']\n",
    "    \n",
    "    start = row['start']\n",
    "    end = row['end']\n",
    "    \n",
    "    try:\n",
    "        return seq[int(start)-1:int(end)]\n",
    "    except:\n",
    "        return None"
   ]
  },
  {
   "cell_type": "code",
   "execution_count": 4,
   "metadata": {},
   "outputs": [
    {
     "data": {
      "text/plain": [
       "31475"
      ]
     },
     "execution_count": 4,
     "metadata": {},
     "output_type": "execute_result"
    }
   ],
   "source": [
    "nat_df['start'] = nat_df.apply(lambda row: get_start(row), axis=1)\n",
    "nat_df['end'] = nat_df.apply(lambda row: get_end(row), axis=1)\n",
    "nat_df['sp'] = nat_df.apply(lambda row: get_sp(row), axis=1)\n",
    "# nat_df.to_csv('nat_sps_parsed.csv')\n",
    "nat_sps = list(set(nat_df['sp'].values))\n",
    "len(nat_sps)"
   ]
  },
  {
   "cell_type": "code",
   "execution_count": 5,
   "metadata": {},
   "outputs": [
    {
     "data": {
      "text/plain": [
       "164"
      ]
     },
     "execution_count": 5,
     "metadata": {},
     "output_type": "execute_result"
    }
   ],
   "source": [
    "gen_sps = []\n",
    "\n",
    "gen_sps += [s[:-6] for s in gen_df['75'].values]\n",
    "gen_sps += [s[:-6] for s in gen_df['90'].values]\n",
    "gen_sps += [s[:-6] for s in gen_df['95'].values]\n",
    "gen_sps += [s[:-6] for s in gen_df['99'].values]\n",
    "\n",
    "len(gen_sps)"
   ]
  },
  {
   "cell_type": "code",
   "execution_count": 6,
   "metadata": {},
   "outputs": [],
   "source": [
    "from Bio import pairwise2"
   ]
  },
  {
   "cell_type": "code",
   "execution_count": null,
   "metadata": {},
   "outputs": [
    {
     "data": {
      "application/vnd.jupyter.widget-view+json": {
       "model_id": "e1a0fc0335bd4cd3ab35a58eb275f0e1",
       "version_major": 2,
       "version_minor": 0
      },
      "text/plain": [
       "HBox(children=(FloatProgress(value=1.0, bar_style='info', max=1.0), HTML(value='')))"
      ]
     },
     "metadata": {},
     "output_type": "display_data"
    }
   ],
   "source": [
    "try:\n",
    "    master_df = pd.read_csv('sp_top_100_scores.csv')\n",
    "except:\n",
    "    master_df = pd.DataFrame()\n",
    "\n",
    "    for i, s1 in tqdm(enumerate(gen_sps)):\n",
    "        alns = []\n",
    "        for s2 in nat_sps:\n",
    "            if s2:\n",
    "                alignments = pairwise2.align.globalms(s1, s2, 2, -1, -1, -1)\n",
    "                _, _, score, _, _ = alignments[0]\n",
    "                alns.append([s1, s2, score])\n",
    "\n",
    "        df = pd.DataFrame(alns, columns=['generated', 'natural', 'score'])\n",
    "        df.sort_values(by='score', ascending=False, inplace=True)\n",
    "        df = df.iloc[:100]\n",
    "        master_df = pd.concat([master_df, df])\n",
    "\n",
    "    master_df.to_csv('sp_top_100_scores.csv')"
   ]
  },
  {
   "cell_type": "code",
   "execution_count": 13,
   "metadata": {},
   "outputs": [
    {
     "name": "stdout",
     "output_type": "stream",
     "text": [
      "done\n"
     ]
    }
   ],
   "source": [
    "print('done')"
   ]
  },
  {
   "cell_type": "code",
   "execution_count": 14,
   "metadata": {},
   "outputs": [
    {
     "data": {
      "text/html": [
       "<div>\n",
       "<style scoped>\n",
       "    .dataframe tbody tr th:only-of-type {\n",
       "        vertical-align: middle;\n",
       "    }\n",
       "\n",
       "    .dataframe tbody tr th {\n",
       "        vertical-align: top;\n",
       "    }\n",
       "\n",
       "    .dataframe thead th {\n",
       "        text-align: right;\n",
       "    }\n",
       "</style>\n",
       "<table border=\"1\" class=\"dataframe\">\n",
       "  <thead>\n",
       "    <tr style=\"text-align: right;\">\n",
       "      <th></th>\n",
       "      <th>generated</th>\n",
       "      <th>natural</th>\n",
       "      <th>score</th>\n",
       "    </tr>\n",
       "  </thead>\n",
       "  <tbody>\n",
       "    <tr>\n",
       "      <th>5605</th>\n",
       "      <td>MRFFGIHLALALATTSFA</td>\n",
       "      <td>MRFFETLALALLTTGALA</td>\n",
       "      <td>17.0</td>\n",
       "    </tr>\n",
       "    <tr>\n",
       "      <th>17972</th>\n",
       "      <td>MRFFGIHLALALATTSFA</td>\n",
       "      <td>MRQFTHGTLLAILALANTISA</td>\n",
       "      <td>17.0</td>\n",
       "    </tr>\n",
       "    <tr>\n",
       "      <th>26852</th>\n",
       "      <td>MRFFGIHLALALATTSFA</td>\n",
       "      <td>MKVFILALLALTATTAIA</td>\n",
       "      <td>16.0</td>\n",
       "    </tr>\n",
       "    <tr>\n",
       "      <th>26832</th>\n",
       "      <td>MRFFGIHLALALATTSFA</td>\n",
       "      <td>MQFTHLVALALALATSEA</td>\n",
       "      <td>16.0</td>\n",
       "    </tr>\n",
       "    <tr>\n",
       "      <th>7270</th>\n",
       "      <td>MRFFGIHLALALATTSFA</td>\n",
       "      <td>MKFLLVFALALATTSA</td>\n",
       "      <td>16.0</td>\n",
       "    </tr>\n",
       "    <tr>\n",
       "      <th>...</th>\n",
       "      <td>...</td>\n",
       "      <td>...</td>\n",
       "      <td>...</td>\n",
       "    </tr>\n",
       "    <tr>\n",
       "      <th>22239</th>\n",
       "      <td>MRSLLLTSALAALVSLAAASA</td>\n",
       "      <td>MPSRGCSCWLLSLALLCSLAAA</td>\n",
       "      <td>16.0</td>\n",
       "    </tr>\n",
       "    <tr>\n",
       "      <th>6666</th>\n",
       "      <td>MRSLLLTSALAALVSLAAASA</td>\n",
       "      <td>MIRKHSLGFVASALALAVSAQAFA</td>\n",
       "      <td>16.0</td>\n",
       "    </tr>\n",
       "    <tr>\n",
       "      <th>28126</th>\n",
       "      <td>MRSLLLTSALAALVSLAAASA</td>\n",
       "      <td>MRSTLLFVAILALSLAWSLG</td>\n",
       "      <td>16.0</td>\n",
       "    </tr>\n",
       "    <tr>\n",
       "      <th>267</th>\n",
       "      <td>MRSLLLTSALAALVSLAAASA</td>\n",
       "      <td>MRLAASSLLLGAAASLLSSATALA</td>\n",
       "      <td>16.0</td>\n",
       "    </tr>\n",
       "    <tr>\n",
       "      <th>10690</th>\n",
       "      <td>MRSLLLTSALAALVSLAAASA</td>\n",
       "      <td>MARSLAALLLLLVAAAGASHA</td>\n",
       "      <td>16.0</td>\n",
       "    </tr>\n",
       "  </tbody>\n",
       "</table>\n",
       "<p>16400 rows × 3 columns</p>\n",
       "</div>"
      ],
      "text/plain": [
       "                   generated                   natural  score\n",
       "5605      MRFFGIHLALALATTSFA        MRFFETLALALLTTGALA   17.0\n",
       "17972     MRFFGIHLALALATTSFA     MRQFTHGTLLAILALANTISA   17.0\n",
       "26852     MRFFGIHLALALATTSFA        MKVFILALLALTATTAIA   16.0\n",
       "26832     MRFFGIHLALALATTSFA        MQFTHLVALALALATSEA   16.0\n",
       "7270      MRFFGIHLALALATTSFA          MKFLLVFALALATTSA   16.0\n",
       "...                      ...                       ...    ...\n",
       "22239  MRSLLLTSALAALVSLAAASA    MPSRGCSCWLLSLALLCSLAAA   16.0\n",
       "6666   MRSLLLTSALAALVSLAAASA  MIRKHSLGFVASALALAVSAQAFA   16.0\n",
       "28126  MRSLLLTSALAALVSLAAASA      MRSTLLFVAILALSLAWSLG   16.0\n",
       "267    MRSLLLTSALAALVSLAAASA  MRLAASSLLLGAAASLLSSATALA   16.0\n",
       "10690  MRSLLLTSALAALVSLAAASA     MARSLAALLLLLVAAAGASHA   16.0\n",
       "\n",
       "[16400 rows x 3 columns]"
      ]
     },
     "execution_count": 14,
     "metadata": {},
     "output_type": "execute_result"
    }
   ],
   "source": [
    "master_df"
   ]
  },
  {
   "cell_type": "code",
   "execution_count": null,
   "metadata": {},
   "outputs": [],
   "source": [
    "a = master_df[master_df['generated'] == gen_sps[0]]\n",
    "a"
   ]
  },
  {
   "cell_type": "code",
   "execution_count": null,
   "metadata": {},
   "outputs": [],
   "source": [
    "d"
   ]
  },
  {
   "cell_type": "code",
   "execution_count": null,
   "metadata": {},
   "outputs": [],
   "source": [
    "# import pickle\n",
    "# pickle.dump(alns, open('gen_nat_alns.p','wb'))"
   ]
  },
  {
   "cell_type": "code",
   "execution_count": null,
   "metadata": {},
   "outputs": [],
   "source": [
    "# df = pd.DataFrame(alns, columns=['generated', 'natural', 'score'])\n",
    "# df.to_csv('gen_gat_alns.csv')\n",
    "# df"
   ]
  }
 ],
 "metadata": {
  "kernelspec": {
   "display_name": "Python 3",
   "language": "python",
   "name": "python3"
  },
  "language_info": {
   "codemirror_mode": {
    "name": "ipython",
    "version": 3
   },
   "file_extension": ".py",
   "mimetype": "text/x-python",
   "name": "python",
   "nbconvert_exporter": "python",
   "pygments_lexer": "ipython3",
   "version": "3.8.1"
  }
 },
 "nbformat": 4,
 "nbformat_minor": 4
}
