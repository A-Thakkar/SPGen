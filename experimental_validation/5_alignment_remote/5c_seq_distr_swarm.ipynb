{
 "cells": [
  {
   "cell_type": "code",
   "execution_count": 1,
   "metadata": {},
   "outputs": [],
   "source": [
    "%matplotlib inline\n",
    "import pandas as pd\n",
    "import seaborn as sns\n",
    "from matplotlib import pyplot as plt\n",
    "import pickle"
   ]
  },
  {
   "cell_type": "code",
   "execution_count": 2,
   "metadata": {},
   "outputs": [],
   "source": [
    "id_df = pd.read_excel('sps/alns/func_sps_matches.xls')\n",
    "class_df = pd.read_csv('../outputs/any_functionality_classification.csv')"
   ]
  },
  {
   "cell_type": "code",
   "execution_count": 3,
   "metadata": {},
   "outputs": [],
   "source": [
    "id_seqs = list(set(id_df['seq'].values))\n",
    "func_seqs = list(set(class_df['seq'].values))"
   ]
  },
  {
   "cell_type": "code",
   "execution_count": 4,
   "metadata": {},
   "outputs": [],
   "source": [
    "err = 0\n",
    "for s in func_seqs:\n",
    "    if s not in id_seqs:\n",
    "        print(s)\n",
    "        err += 1\n",
    "for s in id_seqs:\n",
    "    if s not in func_seqs:\n",
    "        print(s)\n",
    "        err += 1\n",
    "assert err == 0, 'check sequences'"
   ]
  },
  {
   "cell_type": "code",
   "execution_count": 5,
   "metadata": {},
   "outputs": [
    {
     "data": {
      "text/plain": [
       "<matplotlib.axes._subplots.AxesSubplot at 0x11990d160>"
      ]
     },
     "execution_count": 5,
     "metadata": {},
     "output_type": "execute_result"
    },
    {
     "data": {
      "image/png": "[encoded data removed]",
      "text/plain": [
       "<Figure size 432x288 with 1 Axes>"
      ]
     },
     "metadata": {
      "needs_background": "light"
     },
     "output_type": "display_data"
    }
   ],
   "source": [
    "sns.distplot(id_df['percent_identity'].values, bins=20, rug=True)"
   ]
  },
  {
   "cell_type": "code",
   "execution_count": 6,
   "metadata": {},
   "outputs": [],
   "source": [
    "# df['seq']"
   ]
  },
  {
   "cell_type": "code",
   "execution_count": 7,
   "metadata": {},
   "outputs": [
    {
     "data": {
      "text/html": [
       "<div>\n",
       "<style scoped>\n",
       "    .dataframe tbody tr th:only-of-type {\n",
       "        vertical-align: middle;\n",
       "    }\n",
       "\n",
       "    .dataframe tbody tr th {\n",
       "        vertical-align: top;\n",
       "    }\n",
       "\n",
       "    .dataframe thead th {\n",
       "        text-align: right;\n",
       "    }\n",
       "</style>\n",
       "<table border=\"1\" class=\"dataframe\">\n",
       "  <thead>\n",
       "    <tr style=\"text-align: right;\">\n",
       "      <th></th>\n",
       "      <th>Unnamed: 0</th>\n",
       "      <th>spid</th>\n",
       "      <th>seq</th>\n",
       "      <th>any_functional</th>\n",
       "    </tr>\n",
       "  </thead>\n",
       "  <tbody>\n",
       "    <tr>\n",
       "      <th>0</th>\n",
       "      <td>0</td>\n",
       "      <td>sps10-2</td>\n",
       "      <td>MKVFTLAFAIICQLFASA</td>\n",
       "      <td>True</td>\n",
       "    </tr>\n",
       "    <tr>\n",
       "      <th>1</th>\n",
       "      <td>1</td>\n",
       "      <td>sps12-1</td>\n",
       "      <td>MGFRLKALLVGCLIFLAVSSAIA</td>\n",
       "      <td>True</td>\n",
       "    </tr>\n",
       "    <tr>\n",
       "      <th>2</th>\n",
       "      <td>2</td>\n",
       "      <td>sps12-2</td>\n",
       "      <td>MTSYEFLLVILGVLLSGA</td>\n",
       "      <td>True</td>\n",
       "    </tr>\n",
       "    <tr>\n",
       "      <th>3</th>\n",
       "      <td>3</td>\n",
       "      <td>sps12-4</td>\n",
       "      <td>MNIRLGALLAGLLLSAMASAVFA</td>\n",
       "      <td>True</td>\n",
       "    </tr>\n",
       "    <tr>\n",
       "      <th>4</th>\n",
       "      <td>4</td>\n",
       "      <td>sps13-3</td>\n",
       "      <td>MNKKFKTIMALAIATLSAAGVGVAHA</td>\n",
       "      <td>True</td>\n",
       "    </tr>\n",
       "    <tr>\n",
       "      <th>...</th>\n",
       "      <td>...</td>\n",
       "      <td>...</td>\n",
       "      <td>...</td>\n",
       "      <td>...</td>\n",
       "    </tr>\n",
       "    <tr>\n",
       "      <th>68</th>\n",
       "      <td>68</td>\n",
       "      <td>sps40-4</td>\n",
       "      <td>MKLLKVIATAFLGLTSFASA</td>\n",
       "      <td>False</td>\n",
       "    </tr>\n",
       "    <tr>\n",
       "      <th>69</th>\n",
       "      <td>69</td>\n",
       "      <td>sps5-1</td>\n",
       "      <td>MLLPAFMLLILPAALA</td>\n",
       "      <td>False</td>\n",
       "    </tr>\n",
       "    <tr>\n",
       "      <th>70</th>\n",
       "      <td>70</td>\n",
       "      <td>sps9-1</td>\n",
       "      <td>MLSLKSLFLSTLLIVLAASGFA</td>\n",
       "      <td>False</td>\n",
       "    </tr>\n",
       "    <tr>\n",
       "      <th>71</th>\n",
       "      <td>71</td>\n",
       "      <td>sps9-3</td>\n",
       "      <td>MKLLAFIFALFLFSIARA</td>\n",
       "      <td>False</td>\n",
       "    </tr>\n",
       "    <tr>\n",
       "      <th>72</th>\n",
       "      <td>72</td>\n",
       "      <td>sps9-4</td>\n",
       "      <td>MNKLFYLFMLGLAAFA</td>\n",
       "      <td>False</td>\n",
       "    </tr>\n",
       "  </tbody>\n",
       "</table>\n",
       "<p>73 rows × 4 columns</p>\n",
       "</div>"
      ],
      "text/plain": [
       "    Unnamed: 0     spid                         seq  any_functional\n",
       "0            0  sps10-2          MKVFTLAFAIICQLFASA            True\n",
       "1            1  sps12-1     MGFRLKALLVGCLIFLAVSSAIA            True\n",
       "2            2  sps12-2          MTSYEFLLVILGVLLSGA            True\n",
       "3            3  sps12-4     MNIRLGALLAGLLLSAMASAVFA            True\n",
       "4            4  sps13-3  MNKKFKTIMALAIATLSAAGVGVAHA            True\n",
       "..         ...      ...                         ...             ...\n",
       "68          68  sps40-4        MKLLKVIATAFLGLTSFASA           False\n",
       "69          69   sps5-1            MLLPAFMLLILPAALA           False\n",
       "70          70   sps9-1      MLSLKSLFLSTLLIVLAASGFA           False\n",
       "71          71   sps9-3          MKLLAFIFALFLFSIARA           False\n",
       "72          72   sps9-4            MNKLFYLFMLGLAAFA           False\n",
       "\n",
       "[73 rows x 4 columns]"
      ]
     },
     "execution_count": 7,
     "metadata": {},
     "output_type": "execute_result"
    }
   ],
   "source": [
    "class_df"
   ]
  },
  {
   "cell_type": "code",
   "execution_count": 8,
   "metadata": {},
   "outputs": [
    {
     "name": "stderr",
     "output_type": "stream",
     "text": [
      "<ipython-input-8-7d4b3da4b3e1>:5: SettingWithCopyWarning: \n",
      "A value is trying to be set on a copy of a slice from a DataFrame.\n",
      "Try using .loc[row_indexer,col_indexer] = value instead\n",
      "\n",
      "See the caveats in the documentation: https://pandas.pydata.org/pandas-docs/stable/user_guide/indexing.html#returning-a-view-versus-a-copy\n",
      "  nonfunc['class'] = 'nonfunctional'\n",
      "<ipython-input-8-7d4b3da4b3e1>:6: SettingWithCopyWarning: \n",
      "A value is trying to be set on a copy of a slice from a DataFrame.\n",
      "Try using .loc[row_indexer,col_indexer] = value instead\n",
      "\n",
      "See the caveats in the documentation: https://pandas.pydata.org/pandas-docs/stable/user_guide/indexing.html#returning-a-view-versus-a-copy\n",
      "  func['class'] = 'functional'\n"
     ]
    }
   ],
   "source": [
    "nonfunctional_sps = class_df[class_df['any_functional']==False]['seq'].values\n",
    "\n",
    "nonfunc = id_df[id_df['seq'].isin(nonfunctional_sps)]\n",
    "func = id_df[~id_df['seq'].isin(nonfunctional_sps)]\n",
    "nonfunc['class'] = 'nonfunctional'\n",
    "func['class'] = 'functional'\n",
    "plot_df = nonfunc.copy()\n",
    "plot_df = plot_df.append(func, ignore_index=True)"
   ]
  },
  {
   "cell_type": "code",
   "execution_count": 9,
   "metadata": {},
   "outputs": [],
   "source": [
    "nonfunc.drop_duplicates()\n",
    "seqs = list(set(nonfunc['seq'].values))\n",
    "seqs.sort()\n",
    "# for i, s in enumerate(seqs):\n",
    "#     print(i,s)"
   ]
  },
  {
   "cell_type": "code",
   "execution_count": 10,
   "metadata": {},
   "outputs": [],
   "source": [
    "import seaborn as sns"
   ]
  },
  {
   "cell_type": "code",
   "execution_count": 11,
   "metadata": {},
   "outputs": [],
   "source": [
    "# nonfunctional_sps"
   ]
  },
  {
   "cell_type": "code",
   "execution_count": 12,
   "metadata": {},
   "outputs": [
    {
     "data": {
      "image/png": "[encoded data removed]",
      "text/plain": [
       "<Figure size 720x360 with 1 Axes>"
      ]
     },
     "metadata": {},
     "output_type": "display_data"
    }
   ],
   "source": [
    "sns.set(font='helvetica', context='notebook', font_scale=1.5, style='ticks')\n",
    "fig, ax = plt.subplots(figsize=(10,5))\n",
    "ax.tick_params(axis='both', which='major', labelsize=18)\n",
    "sns.swarmplot(x = 'percent_identity', y='class', order=['functional','nonfunctional'], data=plot_df, size=7) # df['percent_identity'].values)\n",
    "\n",
    "plt.xlabel('Sequence Identity to Closest Natural SP', fontsize=18)\n",
    "plt.ylabel('', fontsize=18)\n",
    "plt.title('Sequence Identity Distribution', fontsize=22)\n",
    "plt.tight_layout()\n",
    "# sns.swarmplot(nonfunc['percent_identity'].values, color='red')\n",
    "fig.savefig(\"swarm.svg\")"
   ]
  },
  {
   "cell_type": "code",
   "execution_count": 13,
   "metadata": {},
   "outputs": [
    {
     "data": {
      "text/plain": [
       "0.16777204227514797"
      ]
     },
     "execution_count": 13,
     "metadata": {},
     "output_type": "execute_result"
    }
   ],
   "source": [
    "from scipy.stats import ttest_ind\n",
    "\n",
    "p = ttest_ind(nonfunc['percent_identity'].values, func['percent_identity'].values, equal_var=True).pvalue\n",
    "p"
   ]
  },
  {
   "cell_type": "code",
   "execution_count": 14,
   "metadata": {},
   "outputs": [
    {
     "data": {
      "text/plain": [
       "43"
      ]
     },
     "execution_count": 14,
     "metadata": {},
     "output_type": "execute_result"
    }
   ],
   "source": [
    "len(func)"
   ]
  },
  {
   "cell_type": "code",
   "execution_count": 15,
   "metadata": {},
   "outputs": [
    {
     "data": {
      "text/plain": [
       "30"
      ]
     },
     "execution_count": 15,
     "metadata": {},
     "output_type": "execute_result"
    }
   ],
   "source": [
    "len(nonfunc)"
   ]
  },
  {
   "cell_type": "code",
   "execution_count": 16,
   "metadata": {},
   "outputs": [],
   "source": [
    "# t = list(set(func['seq'].values))\n",
    "# t.sort()\n",
    "# for i in t:\n",
    "#     print(i)"
   ]
  },
  {
   "cell_type": "code",
   "execution_count": null,
   "metadata": {},
   "outputs": [],
   "source": []
  }
 ],
 "metadata": {
  "kernelspec": {
   "display_name": "Python 3",
   "language": "python",
   "name": "python3"
  },
  "language_info": {
   "codemirror_mode": {
    "name": "ipython",
    "version": 3
   },
   "file_extension": ".py",
   "mimetype": "text/x-python",
   "name": "python",
   "nbconvert_exporter": "python",
   "pygments_lexer": "ipython3",
   "version": "3.8.1"
  }
 },
 "nbformat": 4,
 "nbformat_minor": 4
}
