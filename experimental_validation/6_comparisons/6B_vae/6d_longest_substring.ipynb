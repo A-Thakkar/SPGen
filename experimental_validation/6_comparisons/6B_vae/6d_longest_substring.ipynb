{
 "cells": [
  {
   "cell_type": "code",
   "execution_count": 1,
   "metadata": {},
   "outputs": [],
   "source": [
    "import numpy as np\n",
    "import pandas as pd\n",
    "import pickle"
   ]
  },
  {
   "cell_type": "code",
   "execution_count": 2,
   "metadata": {},
   "outputs": [],
   "source": [
    "MAX_CHARS = 26\n",
    "  \n",
    "# This function calculates number of unique characters  \n",
    "# using a associative array count[]. Returns true if  \n",
    "# no. of characters are less than required else returns  \n",
    "# false.  \n",
    "def isValid(count, k):  \n",
    "    val = 0\n",
    "    for i in range(MAX_CHARS):  \n",
    "        if count[i] > 0:  \n",
    "            val += 1\n",
    "  \n",
    "    # Return true if k is greater than or equal to val  \n",
    "    return (k >= val)  \n",
    "  \n",
    "# Finds the maximum substring with exactly k unique characters  \n",
    "def kUniques(s, k):  \n",
    "    u = 0 # number of unique characters  \n",
    "    n = len(s)  \n",
    "  \n",
    "    # Associative array to store the count  \n",
    "    count = [0] * MAX_CHARS  \n",
    "  \n",
    "    # Tranverse the string, fills the associative array  \n",
    "    # count[] and count number of unique characters  \n",
    "    for i in range(n):  \n",
    "        if count[ord(s[i])-ord('a')] == 0:  \n",
    "            u += 1\n",
    "        count[ord(s[i])-ord('a')] += 1\n",
    "  \n",
    "    # If there are not enough unique characters, show  \n",
    "    # an error message.  \n",
    "    if u < k:  \n",
    "        print (\"Not enough unique characters\") \n",
    "        return\n",
    "  \n",
    "    # Otherwise take a window with first element in it.  \n",
    "    # start and end variables.  \n",
    "    curr_start = 0\n",
    "    curr_end = 0\n",
    "  \n",
    "    # Also initialize values for result longest window  \n",
    "    max_window_size = 1\n",
    "    max_window_start = 0\n",
    "  \n",
    "    # Initialize associative array count[] with zero  \n",
    "    count = [0] * len(count)  \n",
    "  \n",
    "    count[ord(s[0])-ord('a')] += 1 # put the first character  \n",
    "  \n",
    "    # Start from the second character and add  \n",
    "    # characters in window according to above  \n",
    "    # explanation  \n",
    "    for i in range(1,n):  \n",
    "  \n",
    "        # Add the character 's[i]' to current window  \n",
    "        count[ord(s[i])-ord('a')] += 1\n",
    "        curr_end+=1\n",
    "  \n",
    "        # If there are more than k unique characters in  \n",
    "        # current window, remove from left side  \n",
    "        while not isValid(count, k):  \n",
    "            count[ord(s[curr_start])-ord('a')] -= 1\n",
    "            curr_start += 1\n",
    "  \n",
    "        # Update the max window size if required  \n",
    "        if curr_end-curr_start+1 > max_window_size:  \n",
    "            max_window_size = curr_end-curr_start+1\n",
    "            max_window_start = curr_start  \n",
    "  \n",
    "#     print (\"Max substring is : \" + s[max_window_start:max_window_start  + max_window_size]  \n",
    "#     + \" with length \" + str(max_window_size)) \n",
    "    \n",
    "    return max_window_size, s[max_window_start:max_window_start  + max_window_size]"
   ]
  },
  {
   "cell_type": "code",
   "execution_count": 3,
   "metadata": {},
   "outputs": [],
   "source": [
    "# Driver function  \n",
    "s = \"aabacbebebe\"\n",
    "s='MRKRLLALALAALSLLLLLSFGVKALAGSGA'.lower()\n",
    "k = 3\n",
    "l, subs = kUniques(s, k)  "
   ]
  },
  {
   "cell_type": "code",
   "execution_count": 4,
   "metadata": {},
   "outputs": [
    {
     "data": {
      "text/plain": [
       "'MRKRLLALALAALSLLLLLSFGVKALAGSGA'"
      ]
     },
     "execution_count": 4,
     "metadata": {},
     "output_type": "execute_result"
    }
   ],
   "source": [
    "with open('results_1024/sample_110.p', 'rb') as f:\n",
    "    vae_samples = pickle.load(f)\n",
    "    \n",
    "def parse_sample(seq):\n",
    "    if '<END>' in seq:\n",
    "        seq = seq[1:seq.index(\"<END>\")]\n",
    "    else:\n",
    "        seq = seq[1:]\n",
    "    \n",
    "    out = \"\".join(seq).replace(\"<PAD>\", \"\")\n",
    "    return out\n",
    "parse_sample(vae_samples[0])"
   ]
  },
  {
   "cell_type": "code",
   "execution_count": 5,
   "metadata": {},
   "outputs": [],
   "source": [
    "vae_seqs = [parse_sample(s) for s in vae_samples]"
   ]
  },
  {
   "cell_type": "code",
   "execution_count": 6,
   "metadata": {},
   "outputs": [],
   "source": [
    "# chars = set()\n",
    "# for s in vae_seqs:\n",
    "#     chars.update(set([_ for _ in s]))\n",
    "# len(chars)"
   ]
  },
  {
   "cell_type": "code",
   "execution_count": 7,
   "metadata": {},
   "outputs": [
    {
     "name": "stdout",
     "output_type": "stream",
     "text": [
      "VAE - 1\n",
      "3.9072265625 1.9304778299152865\n",
      "VAE - 2\n",
      "7.228515625 2.9647221596856017\n",
      "VAE - 3\n",
      "10.748046875 3.5323554815169347\n"
     ]
    }
   ],
   "source": [
    "for num_unique in [1,2,3]:\n",
    "    vae_sub_ls = []\n",
    "    for i,s in enumerate(vae_seqs):\n",
    "    #     print(i)\n",
    "        a,b = kUniques(s.lower(), num_unique)\n",
    "        vae_sub_ls.append(a)\n",
    "    print(\"VAE - \" + str(num_unique))\n",
    "    print(np.average(vae_sub_ls), np.std(vae_sub_ls))"
   ]
  },
  {
   "cell_type": "code",
   "execution_count": 8,
   "metadata": {},
   "outputs": [],
   "source": [
    "tdf = pd.read_excel('generated_sp_ids.xlsx')\n",
    "transformer_sps = tdf['sequence'].values"
   ]
  },
  {
   "cell_type": "code",
   "execution_count": 9,
   "metadata": {},
   "outputs": [
    {
     "name": "stdout",
     "output_type": "stream",
     "text": [
      "Transformer - 1\n",
      "2.073170731707317 0.5797494792197421\n",
      "Transformer - 2\n",
      "4.0426829268292686 1.0321101387395606\n",
      "Transformer - 3\n",
      "6.2560975609756095 1.516663343593076\n"
     ]
    }
   ],
   "source": [
    "for num_unique in [1,2,3]:\n",
    "    trans_sub_ls = []\n",
    "    for i,s in enumerate(transformer_sps):\n",
    "        a,b = kUniques(s.lower(),num_unique)\n",
    "        trans_sub_ls.append(a)\n",
    "    print(\"Transformer - \" + str(num_unique))\n",
    "    print(np.average(trans_sub_ls), np.std(trans_sub_ls))"
   ]
  }
 ],
 "metadata": {
  "kernelspec": {
   "display_name": "Python 3",
   "language": "python",
   "name": "python3"
  },
  "language_info": {
   "codemirror_mode": {
    "name": "ipython",
    "version": 3
   },
   "file_extension": ".py",
   "mimetype": "text/x-python",
   "name": "python",
   "nbconvert_exporter": "python",
   "pygments_lexer": "ipython3",
   "version": "3.7.4"
  }
 },
 "nbformat": 4,
 "nbformat_minor": 4
}
