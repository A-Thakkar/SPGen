{
 "cells": [
  {
   "cell_type": "code",
   "execution_count": 1,
   "metadata": {},
   "outputs": [],
   "source": [
    "import numpy as np\n",
    "import pickle\n",
    "import einops\n",
    "\n",
    "# from main import VAE"
   ]
  },
  {
   "cell_type": "code",
   "execution_count": 2,
   "metadata": {},
   "outputs": [],
   "source": [
    "from __future__ import print_function\n",
    "import argparse\n",
    "import torch\n",
    "import torch.utils.data\n",
    "from torch import nn, optim\n",
    "from torch.nn import functional as F\n",
    "from torchvision import datasets, transforms\n",
    "from torchvision.utils import save_image\n",
    "import pickle\n",
    "\n",
    "class VAE(nn.Module):\n",
    "    def __init__(self):\n",
    "        super(VAE, self).__init__()\n",
    "\n",
    "        self.fc1 = nn.Linear(1200, 400)\n",
    "        self.fc21 = nn.Linear(400, 20)\n",
    "        self.fc22 = nn.Linear(400, 20)\n",
    "        self.fc3 = nn.Linear(20, 400)\n",
    "        self.fc4 = nn.Linear(400, 1200)\n",
    "\n",
    "    def encode(self, x):\n",
    "        h1 = F.relu(self.fc1(x))\n",
    "        return self.fc21(h1), self.fc22(h1)\n",
    "\n",
    "    def reparameterize(self, mu, logvar):\n",
    "        std = torch.exp(0.5*logvar)\n",
    "        eps = torch.randn_like(std)\n",
    "        return mu + eps*std\n",
    "\n",
    "    def decode(self, z):\n",
    "        h3 = F.relu(self.fc3(z))\n",
    "        return torch.sigmoid(self.fc4(h3))\n",
    "\n",
    "    def forward(self, x):\n",
    "        mu, logvar = self.encode(x.view(-1, 1200))\n",
    "        z = self.reparameterize(mu, logvar)\n",
    "        return self.decode(z), mu, logvar\n",
    "\n",
    "    "
   ]
  },
  {
   "cell_type": "code",
   "execution_count": 3,
   "metadata": {},
   "outputs": [
    {
     "data": {
      "text/plain": [
       "<All keys matched successfully>"
      ]
     },
     "execution_count": 3,
     "metadata": {},
     "output_type": "execute_result"
    }
   ],
   "source": [
    "model = VAE().to(\"cpu\")\n",
    "model.load_state_dict(torch.load(\"model_chkpts/vae_e100.chkpt\"))"
   ]
  },
  {
   "cell_type": "code",
   "execution_count": 4,
   "metadata": {},
   "outputs": [],
   "source": [
    "# Load signal peptide data\n",
    "train_tensors = torch.load('train99_tensors.pt')\n",
    "valid_tensors = torch.load('valid99_tensors.pt')\n",
    "\n",
    "\n",
    "# Create new dataloaders\n",
    "test_loader = torch.utils.data.DataLoader(\n",
    "    valid_tensors, batch_size=128, shuffle=False)\n",
    "\n"
   ]
  },
  {
   "cell_type": "code",
   "execution_count": 5,
   "metadata": {},
   "outputs": [],
   "source": [
    "def loss_function(recon_x, x, mu, logvar):\n",
    "    BCE = F.binary_cross_entropy(recon_x, x.view(-1, 1200), reduction='sum')\n",
    "\n",
    "    # see Appendix B from VAE paper:\n",
    "    # Kingma and Welling. Auto-Encoding Variational Bayes. ICLR, 2014\n",
    "    # https://arxiv.org/abs/1312.6114\n",
    "    # 0.5 * sum(1 + log(sigma^2) - mu^2 - sigma^2)\n",
    "#     KLD = -0.5 * torch.sum(1 + logvar - mu.pow(2) - logvar.exp())\n",
    "\n",
    "    return BCE #+ KLD"
   ]
  },
  {
   "cell_type": "code",
   "execution_count": 6,
   "metadata": {},
   "outputs": [],
   "source": [
    "def return_accuracy(recon_batch, data):\n",
    "    b, r, data_c = data.shape\n",
    "    recon_batch = einops.rearrange(recon_batch, \"b (l c) -> b l c\", c=data_c)\n",
    "    recon_inds =  torch.argmax(recon_batch, dim=2)\n",
    "    true_inds = torch.argmax(data, dim=2)\n",
    "\n",
    "    padmask = true_inds!=1\n",
    "\n",
    "    nopad_recon = recon_inds[padmask]\n",
    "    nopad_true = true_inds[padmask]\n",
    "\n",
    "    acc = ((nopad_recon==nopad_true).sum()).item() / len(nopad_true)\n",
    "\n",
    "    return acc"
   ]
  },
  {
   "cell_type": "code",
   "execution_count": 7,
   "metadata": {},
   "outputs": [],
   "source": [
    "def CELoss(data, recon_batch):\n",
    "\n",
    "    data_c = data.shape[-1]\n",
    "    recon_batch = einops.rearrange(recon_batch, \"b (l c) -> b l c\", c=data_c)\n",
    "\n",
    "    weights = torch.tensor([1.0 if i != 1 else 0 for i in range(24)])\n",
    "    loss = nn.CrossEntropyLoss(weight = weights, reduction=\"mean\")\n",
    "\n",
    "    num_seqs, num_pos, channels = data.shape\n",
    "\n",
    "    total_loss = 0\n",
    "    count = 0\n",
    "\n",
    "    all_loss, all_count = 0, 0\n",
    "\n",
    "    for seq in range(num_seqs):\n",
    "        for pos in range(num_pos):\n",
    "\n",
    "\n",
    "            val, true_ind = torch.max(data[seq, pos, :], 0)\n",
    "\n",
    "            target=torch.tensor([true_ind])\n",
    "    #         print(data[seq,pos,:])\n",
    "    #         print(f\"data : {val:0.2f} \\t {true_ind:d}\")\n",
    "\n",
    "            val, ind = torch.max(recon_batch[seq,pos,:], 0)\n",
    "    #         print(f\"data : {val:0.2f} \\t {ind:d}\")\n",
    "    #         print(recon_batch[seq,pos,:])\n",
    "            inputs = recon_batch[seq,pos,:].view(1,24)\n",
    "\n",
    "\n",
    "            _loss = loss(inputs, target)\n",
    "\n",
    "            if true_ind != 1:\n",
    "                total_loss += _loss\n",
    "                count += 1\n",
    "\n",
    "            all_loss += _loss\n",
    "            all_count += count\n",
    "\n",
    "#     print(total_loss / count, total_loss, count)\n",
    "#     print(all_loss / all_count, all_loss, all_count)\n",
    "\n",
    "    return (total_loss / count).item()"
   ]
  },
  {
   "cell_type": "code",
   "execution_count": 8,
   "metadata": {},
   "outputs": [],
   "source": [
    "model.eval()\n",
    "test_loss = 0\n",
    "\n",
    "device=\"cpu\"\n",
    "losses = []\n",
    "accs = []\n",
    "with torch.no_grad():\n",
    "    for i, data in enumerate(test_loader):\n",
    "        data = data.to(device)\n",
    "        recon_batch, mu, logvar = model(data)\n",
    "        \n",
    "        acc = return_accuracy(recon_batch, data)\n",
    "        accs.append(acc)\n",
    "        test_loss += loss_function(recon_batch, data, mu, logvar).item()\n",
    "        CE_loss = CELoss(data, recon_batch)\n",
    "        losses.append(CE_loss)\n",
    "#         if i == 0:\n",
    "#             n = min(data.size(0), 8)\n",
    "#             comparison = torch.cat([data[:n],\n",
    "#                                   recon_batch.view(args.batch_size, 1, 50, 24)[:n]])\n",
    "#             save_image(comparison.cpu(),\n",
    "#                      'results/reconstruction_' + str(epoch) + '.png', nrow=n)"
   ]
  },
  {
   "cell_type": "code",
   "execution_count": 9,
   "metadata": {},
   "outputs": [],
   "source": [
    "# b, r, data_c = data.shape\n",
    "# recon_batch = einops.rearrange(recon_batch, \"b (l c) -> b l c\", c=data_c)\n",
    "# recon_batch.shape"
   ]
  },
  {
   "cell_type": "code",
   "execution_count": 10,
   "metadata": {},
   "outputs": [
    {
     "name": "stdout",
     "output_type": "stream",
     "text": [
      "0.4535704440063153 0.016660600485364174\n"
     ]
    }
   ],
   "source": [
    "print(np.average(accs), np.std(accs))"
   ]
  },
  {
   "cell_type": "code",
   "execution_count": null,
   "metadata": {},
   "outputs": [],
   "source": [
    "print(f\"The average accuracy is {-np.average(accs):0.2f}\")"
   ]
  },
  {
   "cell_type": "code",
   "execution_count": 11,
   "metadata": {},
   "outputs": [
    {
     "name": "stdout",
     "output_type": "stream",
     "text": [
      "2.884387585249814 0.011155884661706113\n"
     ]
    }
   ],
   "source": [
    "print(np.average(losses), np.std(losses))"
   ]
  },
  {
   "cell_type": "code",
   "execution_count": 12,
   "metadata": {},
   "outputs": [
    {
     "name": "stdout",
     "output_type": "stream",
     "text": [
      "The average log likelihood is -2.88\n"
     ]
    }
   ],
   "source": [
    "print(f\"The average log likelihood is {-np.average(losses):0.2f}\")"
   ]
  }
 ],
 "metadata": {
  "kernelspec": {
   "display_name": "Python 3",
   "language": "python",
   "name": "python3"
  },
  "language_info": {
   "codemirror_mode": {
    "name": "ipython",
    "version": 3
   },
   "file_extension": ".py",
   "mimetype": "text/x-python",
   "name": "python",
   "nbconvert_exporter": "python",
   "pygments_lexer": "ipython3",
   "version": "3.7.4"
  }
 },
 "nbformat": 4,
 "nbformat_minor": 4
}
