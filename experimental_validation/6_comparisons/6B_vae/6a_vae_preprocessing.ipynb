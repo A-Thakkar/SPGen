{
 "cells": [
  {
   "cell_type": "code",
   "execution_count": 1,
   "metadata": {},
   "outputs": [],
   "source": [
    "import pickle\n",
    "import numpy\n",
    "import torch\n",
    "from tqdm import tqdm"
   ]
  },
  {
   "cell_type": "code",
   "execution_count": 3,
   "metadata": {},
   "outputs": [],
   "source": [
    "with open(\"../filtered_datasets_6-14-18/train_99.pkl\", 'rb') as f:\n",
    "    train_data = pickle.load(f)\n",
    "with open(\"../filtered_datasets_6-14-18/validate_99.pkl\", 'rb') as f:\n",
    "    valid_data = pickle.load(f)"
   ]
  },
  {
   "cell_type": "code",
   "execution_count": 4,
   "metadata": {},
   "outputs": [],
   "source": [
    "train_sps = list(set([i[0] for i in train_data]))\n",
    "valid_sps = list(set([i[0] for i in valid_data]))"
   ]
  },
  {
   "cell_type": "code",
   "execution_count": 5,
   "metadata": {},
   "outputs": [
    {
     "data": {
      "text/plain": [
       "['MKFAAILLVTCVLFSLLPSHLSQG',\n",
       " 'MRITLPLLSTAVGLGLTAAVLGTGPAATA',\n",
       " 'MFLKGYTSNVVLIILTFFILLTKE',\n",
       " 'MHHDNFRRLGNAAFAAAAALLAVA',\n",
       " 'MIQVLLVTVCLAVFPYQGSS',\n",
       " 'MKLLSVCAIALLAAQAAG',\n",
       " 'MILLHFVYSLWALLLIPLINA',\n",
       " 'MTSFCSMISLLLLLSLSSAVFS',\n",
       " 'MAMISYSTIVVALLASFMICSVSA',\n",
       " 'MAPSQKALLVLVLSMLLTASDSWA',\n",
       " 'MGTGAADGSRGARRWLPWLGLFFWAAGAAA',\n",
       " 'MKFTLTWRCFALFLLLHQPTPV',\n",
       " 'MWGLKVLLLPVMSFA',\n",
       " 'MSGYEKPSRGWGFCALSPVLLSLLMA',\n",
       " 'MKISFLLLALVICSIGWSEA',\n",
       " 'MPRQSGFGWAWRVPLALAGSLAAAT',\n",
       " 'MPAGTAARAWVLVLALWGAVAG',\n",
       " 'MRLPLPLLLLFGCRAILGSFG',\n",
       " 'MKGTAASALLIALSATAAQA',\n",
       " 'MFTVFLLVVLATTVGS',\n",
       " 'MKLFKKLGILLLITSLILLAA',\n",
       " 'MKPWAAFHLIFLVASSLEG',\n",
       " 'MRNLSTWPTFAALLWSAPRVLA',\n",
       " 'MYQSTLKTILLASALLILPASMSA',\n",
       " 'MNRLSCFLLVIGLCIGLSNA',\n",
       " 'MSFIRSALAAAAFVALSIGAVQTASA',\n",
       " 'MGNFTVRATAGLMLASLSTLAHA',\n",
       " 'MKNKTNLGLSVFFFFICLVSVTS',\n",
       " 'MKASRFLALAGLVLLFVVGYA',\n",
       " 'MLCGPLCRFLWLWPYLSYVEA']"
      ]
     },
     "execution_count": 5,
     "metadata": {},
     "output_type": "execute_result"
    }
   ],
   "source": [
    "train_sps[:30]"
   ]
  },
  {
   "cell_type": "code",
   "execution_count": 6,
   "metadata": {},
   "outputs": [],
   "source": [
    "try:\n",
    "    char_dict = pickle.load(open('vae_sp_char_dict.p','rb'))\n",
    "except:\n",
    "    raise Error\n",
    "#     chars = set()\n",
    "#     for sp in train_sps:\n",
    "#         sp_chars = [char for char in sp]\n",
    "#         chars.update(sp_chars)\n",
    "#     for sp in valid_sps:\n",
    "#         sp_chars = [char for char in sp]\n",
    "#         chars.update(sp_chars)\n",
    "#     chars.add('<START>')\n",
    "#     chars.add('<END>')\n",
    "#     chars.add('<PAD>')\n",
    "#     chars = list(chars)\n",
    "#     chars.sort()\n",
    "#     char_dict = {char:idx for idx, char in enumerate(chars)}\n",
    "#     pickle.dump(char_dict, open('vae_sp_char_dict.p','wb'))"
   ]
  },
  {
   "cell_type": "code",
   "execution_count": 7,
   "metadata": {},
   "outputs": [
    {
     "name": "stderr",
     "output_type": "stream",
     "text": [
      "100%|██████████| 22137/22137 [00:11<00:00, 1858.28it/s]\n",
      "100%|██████████| 5626/5626 [00:03<00:00, 1755.20it/s]\n"
     ]
    }
   ],
   "source": [
    "def pad(seq, length=70):\n",
    "    seq = [s for s in seq]\n",
    "    seq = ['<START>'] + seq + ['<END>']\n",
    "    \n",
    "    while len(seq) < length:\n",
    "        seq = seq + ['<PAD>']\n",
    "    \n",
    "    if len(seq)>length:\n",
    "        return None\n",
    "    else:\n",
    "        return seq\n",
    "\n",
    "def one_hot(seq, char_dict=char_dict, length=70):\n",
    "    seq = pad(seq, length=length)\n",
    "    if seq==None:\n",
    "        return None\n",
    "    else:\n",
    "        embedding = torch.zeros(len(seq), len(char_dict))\n",
    "        for idx, char in enumerate(seq):\n",
    "            embedding[idx,char_dict[char]] = 1\n",
    "        return embedding\n",
    "\n",
    "length = 50\n",
    "training_data = []\n",
    "for sp in tqdm(train_sps):\n",
    "    if len(sp) <= length-2:\n",
    "        one_hot_sp = one_hot(sp, length=length)\n",
    "        training_data.append(one_hot_sp)\n",
    "\n",
    "valid_data = []\n",
    "for sp in tqdm(valid_sps):\n",
    "    if len(sp) <= length-2:\n",
    "        one_hot_sp = one_hot(sp, length=length)\n",
    "        valid_data.append(one_hot_sp)"
   ]
  },
  {
   "cell_type": "code",
   "execution_count": 8,
   "metadata": {},
   "outputs": [
    {
     "data": {
      "text/plain": [
       "21939"
      ]
     },
     "execution_count": 8,
     "metadata": {},
     "output_type": "execute_result"
    }
   ],
   "source": [
    "len(training_data)"
   ]
  },
  {
   "cell_type": "code",
   "execution_count": 9,
   "metadata": {},
   "outputs": [],
   "source": [
    "from torch.utils.data import DataLoader, Dataset"
   ]
  },
  {
   "cell_type": "code",
   "execution_count": 10,
   "metadata": {},
   "outputs": [],
   "source": [
    "training_data = torch.stack(training_data)\n",
    "valid_data = torch.stack(valid_data)"
   ]
  },
  {
   "cell_type": "code",
   "execution_count": 11,
   "metadata": {},
   "outputs": [],
   "source": [
    "torch.save(training_data, 'train99_tensors.pt')\n",
    "torch.save(valid_data, 'valid99_tensors.pt')"
   ]
  },
  {
   "cell_type": "code",
   "execution_count": 12,
   "metadata": {},
   "outputs": [],
   "source": [
    "train_loader = DataLoader(training_data, shuffle=True, batch_size=32)"
   ]
  },
  {
   "cell_type": "code",
   "execution_count": 123,
   "metadata": {},
   "outputs": [],
   "source": [
    "for i_batch, sample_batched in enumerate(train_loader):\n",
    "    a,b = i_batch, sample_batched"
   ]
  },
  {
   "cell_type": "code",
   "execution_count": 126,
   "metadata": {},
   "outputs": [
    {
     "data": {
      "text/plain": [
       "torch.Size([13, 50, 24])"
      ]
     },
     "execution_count": 126,
     "metadata": {},
     "output_type": "execute_result"
    }
   ],
   "source": [
    "b.shape"
   ]
  },
  {
   "cell_type": "code",
   "execution_count": 135,
   "metadata": {},
   "outputs": [
    {
     "data": {
      "text/plain": [
       "1200"
      ]
     },
     "execution_count": 135,
     "metadata": {},
     "output_type": "execute_result"
    }
   ],
   "source": [
    "50*24"
   ]
  },
  {
   "cell_type": "code",
   "execution_count": 136,
   "metadata": {},
   "outputs": [
    {
     "data": {
      "text/plain": [
       "128.0"
      ]
     },
     "execution_count": 136,
     "metadata": {},
     "output_type": "execute_result"
    }
   ],
   "source": [
    "153600/1200"
   ]
  },
  {
   "cell_type": "code",
   "execution_count": 146,
   "metadata": {},
   "outputs": [
    {
     "data": {
      "text/plain": [
       "tensor(6)"
      ]
     },
     "execution_count": 146,
     "metadata": {},
     "output_type": "execute_result"
    }
   ],
   "source": [
    "a= torch.tensor([[1,2,3,2],[4,3,5,3]])\n",
    "a.argmax()"
   ]
  },
  {
   "cell_type": "code",
   "execution_count": 153,
   "metadata": {},
   "outputs": [],
   "source": [
    "a = torch.randn((2,3,5))"
   ]
  },
  {
   "cell_type": "code",
   "execution_count": 151,
   "metadata": {},
   "outputs": [
    {
     "data": {
      "text/plain": [
       "torch.Size([2, 2, 2])"
      ]
     },
     "execution_count": 151,
     "metadata": {},
     "output_type": "execute_result"
    }
   ],
   "source": [
    "a.shape\n",
    "a = a.view(2,2,2)\n",
    "a.shape"
   ]
  },
  {
   "cell_type": "code",
   "execution_count": 157,
   "metadata": {},
   "outputs": [
    {
     "name": "stdout",
     "output_type": "stream",
     "text": [
      "tensor([-0.1574, -0.4509, -0.4063,  1.1420,  0.6461])\n",
      "tensor(3)\n",
      "-\n",
      "tensor([-0.1304, -0.2496, -0.7058, -0.1843,  0.6006])\n",
      "tensor(4)\n",
      "-\n",
      "tensor([-0.0611,  0.1677, -0.4580, -0.5290, -0.6370])\n",
      "tensor(1)\n",
      "-\n",
      "tensor([ 0.8457,  0.1528,  0.5613, -0.5172,  0.6991])\n",
      "tensor(0)\n",
      "-\n",
      "tensor([-1.1948, -0.0167,  0.1681,  1.2170, -1.8672])\n",
      "tensor(3)\n",
      "-\n",
      "tensor([-0.1641,  1.4369, -1.0226, -1.0374, -0.2292])\n",
      "tensor(1)\n",
      "-\n"
     ]
    }
   ],
   "source": [
    "for i,seq in enumerate(a):\n",
    "    for j,pos in enumerate(seq):\n",
    "        print(a[i,j,:])\n",
    "        print(pos.argmax())\n",
    "        z = pos.argmax()\n",
    "        print('-')"
   ]
  },
  {
   "cell_type": "code",
   "execution_count": 161,
   "metadata": {},
   "outputs": [
    {
     "data": {
      "text/plain": [
       "1"
      ]
     },
     "execution_count": 161,
     "metadata": {},
     "output_type": "execute_result"
    }
   ],
   "source": [
    "z.item()"
   ]
  },
  {
   "cell_type": "code",
   "execution_count": 163,
   "metadata": {},
   "outputs": [
    {
     "data": {
      "text/plain": [
       "'zdc'"
      ]
     },
     "execution_count": 163,
     "metadata": {},
     "output_type": "execute_result"
    }
   ],
   "source": [
    "a = 'bdc'\n",
    "a = a.replace('b','z')\n",
    "a"
   ]
  },
  {
   "cell_type": "code",
   "execution_count": null,
   "metadata": {},
   "outputs": [],
   "source": []
  }
 ],
 "metadata": {
  "kernelspec": {
   "display_name": "Python 3",
   "language": "python",
   "name": "python3"
  },
  "language_info": {
   "codemirror_mode": {
    "name": "ipython",
    "version": 3
   },
   "file_extension": ".py",
   "mimetype": "text/x-python",
   "name": "python",
   "nbconvert_exporter": "python",
   "pygments_lexer": "ipython3",
   "version": "3.7.4"
  }
 },
 "nbformat": 4,
 "nbformat_minor": 4
}
